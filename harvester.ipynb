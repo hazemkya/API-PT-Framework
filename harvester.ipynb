{
 "cells": [
  {
   "cell_type": "code",
   "execution_count": null,
   "metadata": {},
   "outputs": [],
   "source": [
    "import re"
   ]
  },
  {
   "cell_type": "code",
   "execution_count": null,
   "metadata": {},
   "outputs": [],
   "source": [
    "def endpoints_extracter(data):\n",
    "    pattern = re.compile(r'\"([^\"]*)\"')\n",
    "    quoted_data = re.findall(pattern, data)\n",
    "    endpoints_data = [elm for elm in quoted_data if elm.startswith('/')]  \n",
    "    cleaned_endpoints_data = set(endpoints_data)\n",
    "    return cleaned_endpoints_data\n",
    "    "
   ]
  },
  {
   "cell_type": "code",
   "execution_count": null,
   "metadata": {},
   "outputs": [],
   "source": [
    "#main\n",
    "files = [\"bundle.js\"]\n",
    "endpoints_lists = []\n",
    "\n",
    "for file in files:\n",
    "    with open(file, 'r',encoding=\"utf8\") as f:\n",
    "        data = f.read()\n",
    "    endpoints_lists.append(endpoints_extracter(data))\n",
    "    "
   ]
  },
  {
   "cell_type": "code",
   "execution_count": null,
   "metadata": {},
   "outputs": [],
   "source": []
  }
 ],
 "metadata": {
  "kernelspec": {
   "display_name": "Python 3.10.7 64-bit (microsoft store)",
   "language": "python",
   "name": "python3"
  },
  "language_info": {
   "codemirror_mode": {
    "name": "ipython",
    "version": 3
   },
   "file_extension": ".py",
   "mimetype": "text/x-python",
   "name": "python",
   "nbconvert_exporter": "python",
   "pygments_lexer": "ipython3",
   "version": "3.10.7"
  },
  "orig_nbformat": 4,
  "vscode": {
   "interpreter": {
    "hash": "0f6b948fcfe87860a6a075e72928d70c267541e9e0e11779d6afa000947206b4"
   }
  }
 },
 "nbformat": 4,
 "nbformat_minor": 2
}
